{
 "cells": [
  {
   "cell_type": "code",
   "execution_count": 14,
   "metadata": {
    "collapsed": true
   },
   "outputs": [],
   "source": [
    "from collections import namedtuple\n",
    "from pyparsing import Forward, Suppress, Word, ZeroOrMore\n",
    "\n",
    "Node = namedtuple(\"Node\", [\"value\", \"children\"])\n",
    "\n",
    "grammar = Forward()\n",
    "grammar << Suppress(\"(\") + Word(\"0123456789\") + ZeroOrMore(grammar) + Suppress(\")\")\n",
    "\n",
    "def parseAction(string, location, tokens):\n",
    "    return Node(value=tokens[0], children=tokens[1:])\n",
    "\n",
    "grammar.setParseAction(parseAction)\n",
    "\n",
    "def pprint(node, tab=\"\"):\n",
    "   print tab + u\"┗━ \" + str(node.value)\n",
    "   for child in node.children:\n",
    "      pprint(child, tab + \"    \")"
   ]
  },
  {
   "cell_type": "code",
   "execution_count": 27,
   "metadata": {
    "collapsed": false
   },
   "outputs": [],
   "source": [
    "result = grammar.parseString(\"(1 (2 (3)) (4 (5 (6) (7) (8))))\")[0]"
   ]
  },
  {
   "cell_type": "code",
   "execution_count": 28,
   "metadata": {
    "collapsed": false
   },
   "outputs": [
    {
     "name": "stdout",
     "output_type": "stream",
     "text": [
      "┗━ 1\n",
      "    ┗━ 2\n",
      "        ┗━ 3\n",
      "    ┗━ 4\n",
      "        ┗━ 5\n",
      "            ┗━ 6\n",
      "            ┗━ 7\n",
      "            ┗━ 8\n"
     ]
    }
   ],
   "source": [
    "pprint(result)"
   ]
  },
  {
   "cell_type": "code",
   "execution_count": 7,
   "metadata": {
    "collapsed": false
   },
   "outputs": [
    {
     "name": "stdout",
     "output_type": "stream",
     "text": [
      "['var', 'x', '=', '1']\n"
     ]
    }
   ],
   "source": [
    "from pyparsing import alphas, Word, Literal, nums\n",
    "\n",
    "grammar = Literal(\"var\") + Word(alphas) + Literal(\"=\") + Word(nums)\n",
    "print grammar.parseString(\"var x = 1\")"
   ]
  },
  {
   "cell_type": "code",
   "execution_count": 12,
   "metadata": {
    "collapsed": false
   },
   "outputs": [
    {
     "name": "stdout",
     "output_type": "stream",
     "text": [
      "[{Item: var}, {Item: x}, {Item: =}, {Item: 1}]\n"
     ]
    }
   ],
   "source": [
    "import pyparsing\n",
    "\n",
    "class Item:\n",
    "    def __init__(self, value):\n",
    "        self.value = value\n",
    "\n",
    "    def __repr__(self):\n",
    "        return \"{Item: %s}\" % self.value\n",
    "\n",
    "def transform(string, location, tokens):\n",
    "    return [Item(token) for token in tokens]\n",
    "\n",
    "grammar = Literal(\"var\") + Word(alphas) + Literal(\"=\") + Word(nums)\n",
    "grammar.setParseAction(transform)\n",
    "print(grammar.parseString(\"var x = 1\"))"
   ]
  },
  {
   "cell_type": "code",
   "execution_count": null,
   "metadata": {
    "collapsed": true
   },
   "outputs": [],
   "source": []
  }
 ],
 "metadata": {
  "kernelspec": {
   "display_name": "Python 2",
   "language": "python",
   "name": "python2"
  },
  "language_info": {
   "codemirror_mode": {
    "name": "ipython",
    "version": 2
   },
   "file_extension": ".py",
   "mimetype": "text/x-python",
   "name": "python",
   "nbconvert_exporter": "python",
   "pygments_lexer": "ipython2",
   "version": "2.7.10"
  }
 },
 "nbformat": 4,
 "nbformat_minor": 1
}
